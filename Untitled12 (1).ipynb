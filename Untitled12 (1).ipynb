{
 "cells": [
  {
   "cell_type": "code",
   "execution_count": null,
   "metadata": {},
   "outputs": [],
   "source": [
    "from tabula import read_pdf\n",
    "import pandas as pd\n",
    "import re\n",
    "import numpy as np\n",
    "\n",
    "# read pdf file (contain table)\n",
    "def readpdf (filepath,page):\n",
    "    #df=\"\"+filepath+\"\"\n",
    "    df=read_pdf(\"\"+filepath+\"\",pandas_options={'header': None},pages=page)\n",
    "    #return df.head()\n",
    "    #print(df)\n",
    "    return askifdropcol(df) # call next function\n",
    "\n",
    "\n",
    "    \n",
    "# if you would like to dropcolumns in dataframe\n",
    "def askifdropcol(df):\n",
    "    selectcol=[]\n",
    "    # Ask if user would like to drop any cols?\n",
    "    inputa = input(\"do you would like to drop any columns? (y/n):\")\n",
    "    # If they said yes\n",
    "    if (inputa=='y'):\n",
    "        # Check how many column they would like to drop\n",
    "        inputb= int(input(\"how many columns you would like to drop? : \"))\n",
    "        #check that the number should be less than or equal to dataframe columns\n",
    "        if (inputb <=len(df.columns)):\n",
    "            for i in range(inputb):\n",
    "                # type column (one by one it will iterate according to the number in inputb)\n",
    "                ## This case the column name id integer therfore, we need to get int in input\n",
    "                a=int(input(\"type column that you wish to remove:\" ))\n",
    "                # append selected column within a list\n",
    "                selectcol.append(a)\n",
    "            print(\"you select: \", selectcol) \n",
    "            \n",
    "            # find each column\n",
    "            for j in df.columns:\n",
    "                for k in selectcol:\n",
    "                    # if certain column match the expected col then drop\n",
    "                    if (j==k):\n",
    "                        df=df.drop([j],axis=1)\n",
    "            #return (df)\n",
    "            print('YES:::::',df.columns)\n",
    "            print(df.head())\n",
    "\n",
    "\n",
    "\n",
    "\n",
    "def main():\n",
    "    filepath=input(\"please type your file path: \")\n",
    "    page=int(input(\"please select your pdf page: \"))\n",
    "    readpdf(filepath,page)\n",
    "\n",
    "main()"
   ]
  },
  {
   "cell_type": "markdown",
   "metadata": {},
   "source": [
    "#### Cleaning Dataframe "
   ]
  },
  {
   "cell_type": "code",
   "execution_count": null,
   "metadata": {},
   "outputs": [],
   "source": [
    "df=df.drop([42, 44])# drop row\n",
    "df=df.drop([1], axis=1) #drop col\n",
    "df"
   ]
  },
  {
   "cell_type": "code",
   "execution_count": null,
   "metadata": {},
   "outputs": [],
   "source": [
    "df.loc[[47],0] = \"Commonwealth No. Mariana Islands (M5P) 5\"\n",
    "df1 = df[[0]].copy()"
   ]
  },
  {
   "cell_type": "code",
   "execution_count": null,
   "metadata": {},
   "outputs": [],
   "source": [
    "df1['country']=df1[0].str.split(r'(?=\\s\\(\\w+\\)) ').str[0]\n",
    "df1['country_code'] = df1[0].str.split(' ').str[-2]\n",
    "df1['zone'] = df1[0].str.extract('(\\d+)', flags=re.IGNORECASE, expand= True).fillna('')\n",
    "df1=df1.drop([0], axis=1) #drop col"
   ]
  },
  {
   "cell_type": "code",
   "execution_count": null,
   "metadata": {},
   "outputs": [],
   "source": [
    "df2 = df[[2,3]].copy()\n",
    "df2['country']=df2[2].str.split(r'(?=\\s\\(\\w+\\)) ').str[0]\n",
    "df2['country_code'] = df2[2].str.split(' ').str[-1]\n",
    "df2['zone']=df2[3].astype(int)\n",
    "df2=df2.drop([2,3], axis=1) #drop col"
   ]
  },
  {
   "cell_type": "code",
   "execution_count": null,
   "metadata": {},
   "outputs": [],
   "source": [
    "df3 = df[[4,5]].copy()\n",
    "df3['country']=df3[4].str.split(r'(?=\\s\\(\\w+\\)) ').str[0]\n",
    "df3['country_code'] = df3[4].str.split(' ').str[-1]\n",
    "df3['zone']=df3[5].astype(int)\n",
    "df3=df3.drop([4,5], axis=1) #drop col"
   ]
  },
  {
   "cell_type": "code",
   "execution_count": null,
   "metadata": {},
   "outputs": [],
   "source": [
    "df4 = df[[6,7]].copy()\n",
    "df4['country']=df4[6].str.split(r'(?=\\s\\(\\w+\\)) ').str[0]\n",
    "df4['country_code'] = df4[6].str.split(' ').str[-1]\n",
    "df4['zone']=df4[7]\n",
    "#df4['zone']=df4[7].astype(int)\n",
    "df4=df4.drop([6,7], axis=1) #drop col"
   ]
  },
  {
   "cell_type": "code",
   "execution_count": null,
   "metadata": {},
   "outputs": [],
   "source": [
    "frames = [df1, df2, df3,df4]\n",
    "dhl = pd.concat(frames)"
   ]
  },
  {
   "cell_type": "code",
   "execution_count": null,
   "metadata": {},
   "outputs": [],
   "source": [
    "dhl=dhl.reset_index(drop=True)\n",
    "dhl['country_code'] = dhl['country_code'].str.replace(r\"(\\(|\\))\",\"\")\n",
    "#dhl=dhl.notnull"
   ]
  },
  {
   "cell_type": "code",
   "execution_count": null,
   "metadata": {},
   "outputs": [],
   "source": [
    "dhl=dhl.dropna()\n",
    "dhl"
   ]
  },
  {
   "cell_type": "markdown",
   "metadata": {},
   "source": [
    "#### Another table from another page::Price "
   ]
  },
  {
   "cell_type": "code",
   "execution_count": null,
   "metadata": {},
   "outputs": [],
   "source": [
    "price=read_pdf(\"/Users/yokk/desktop/THBZ00187.pdf\",pandas_options={'header': None},pages=1)\n",
    "price.head()"
   ]
  },
  {
   "cell_type": "code",
   "execution_count": null,
   "metadata": {},
   "outputs": [],
   "source": [
    "#pricedf = price.copy()\n",
    "pricedf = price[7:67]\n",
    "pricedf.columns=['kg','1','2','3','4','5']\n",
    "pricedf=pricedf.set_index('kg',inplace=False)\n",
    "pricedf=pricedf.transpose()\n",
    "pricedf['zone']=pricedf.index"
   ]
  },
  {
   "cell_type": "code",
   "execution_count": null,
   "metadata": {},
   "outputs": [],
   "source": [
    "dhl_final=pd.merge(dhl, pricedf, on='zone')"
   ]
  },
  {
   "cell_type": "code",
   "execution_count": null,
   "metadata": {},
   "outputs": [],
   "source": []
  },
  {
   "cell_type": "code",
   "execution_count": null,
   "metadata": {},
   "outputs": [],
   "source": []
  }
 ],
 "metadata": {
  "kernelspec": {
   "display_name": "Python 3",
   "language": "python",
   "name": "python3"
  },
  "language_info": {
   "codemirror_mode": {
    "name": "ipython",
    "version": 3
   },
   "file_extension": ".py",
   "mimetype": "text/x-python",
   "name": "python",
   "nbconvert_exporter": "python",
   "pygments_lexer": "ipython3",
   "version": "3.6.0"
  }
 },
 "nbformat": 4,
 "nbformat_minor": 2
}
